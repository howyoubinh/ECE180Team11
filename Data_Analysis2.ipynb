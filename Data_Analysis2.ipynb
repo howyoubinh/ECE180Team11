{
 "cells": [
  {
   "cell_type": "code",
   "execution_count": 1,
   "metadata": {},
   "outputs": [],
   "source": [
    "import json\n",
    "import operator\n",
    "import plotly\n",
    "import plotly.plotly as py\n",
    "import plotly.figure_factory as ff\n",
    "import plotly.graph_objs as go\n",
    "import pandas as pd\n",
    "import random\n",
    "import pylab\n",
    "import matplotlib.pyplot as plt\n",
    "import numpy as np\n",
    "from difflib import get_close_matches\n",
    "from collections import defaultdict"
   ]
  },
  {
   "cell_type": "code",
   "execution_count": 2,
   "metadata": {},
   "outputs": [],
   "source": [
    "plotly.tools.set_credentials_file(username='KavyaP', api_key='MszYFcAggAFUAOdZ92Wx')"
   ]
  },
  {
   "cell_type": "code",
   "execution_count": 3,
   "metadata": {},
   "outputs": [],
   "source": [
    "data = []\n",
    "for line in open('business.json','r'): \n",
    "     data.append(json.loads(line))"
   ]
  },
  {
   "cell_type": "code",
   "execution_count": 4,
   "metadata": {},
   "outputs": [],
   "source": [
    "x =[]\n",
    "for d in data: # get line in data i.e. each business\n",
    "    if (d['stars'] ): # check that they have star review\n",
    "        cat = d['categories'] # save categories to list\n",
    "        for c in cat: # for each business\n",
    "            if (c == 'Restaurants'): # check that it is a restaurant\n",
    "                x.append(d)"
   ]
  },
  {
   "cell_type": "code",
   "execution_count": 5,
   "metadata": {
    "scrolled": false
   },
   "outputs": [
    {
     "name": "stdout",
     "output_type": "stream",
     "text": [
      "188770.0\n",
      "3.45618660515\n"
     ]
    }
   ],
   "source": [
    "# Average stars for all restaurants\n",
    "stars = 0\n",
    "for i in range(len(x)):\n",
    "    stars += x[i]['stars']\n",
    "avg_stars = stars/len(x)\n",
    "print stars\n",
    "print avg_stars"
   ]
  },
  {
   "cell_type": "markdown",
   "metadata": {},
   "source": [
    "# Average star rating by feature"
   ]
  },
  {
   "cell_type": "code",
   "execution_count": 6,
   "metadata": {},
   "outputs": [],
   "source": [
    "stars_each = np.array([0,0,0,0,0,0]).astype(float)\n",
    "len_each = np.array([0,0,0,0,0,0]).astype(float)\n",
    "\n",
    "\n",
    "for num, business in enumerate(x):\n",
    "    for cat in x[num]['attributes']:\n",
    "        if 'BusinessAcceptsCreditCards' in x[num]['attributes']:\n",
    "            if x[num]['attributes']['BusinessAcceptsCreditCards'] == True:\n",
    "                stars_each[0] += x[0]['stars'] \n",
    "                len_each[0] += 1\n",
    "        if 'WheelchairAccessible' in x[num]['attributes']:\n",
    "            if x[num]['attributes']['WheelchairAccessible'] == True:\n",
    "                stars_each[1] += x[1]['stars'] \n",
    "                len_each[1] += 1\n",
    "        if 'HappyHour' in x[num]['attributes']:\n",
    "            if x[num]['attributes']['HappyHour'] == True:\n",
    "                stars_each[2] += x[2]['stars'] \n",
    "                len_each[2] += 1\n",
    "        if 'HasTV' in x[num]['attributes']:\n",
    "            if x[num]['attributes']['HasTV'] == True:\n",
    "                stars_each[3] += x[3]['stars'] \n",
    "                len_each[3] += 1\n",
    "        if 'RestaurantsGoodForGroups' in x[num]['attributes']:\n",
    "            if x[num]['attributes']['RestaurantsGoodForGroups'] == True:\n",
    "                stars_each[4] += x[4]['stars'] \n",
    "                len_each[4] += 1\n",
    "        if 'BusinessParking' in x[num]['attributes']:\n",
    "            if x[num]['attributes']['BusinessParking']['garage'] or x[num]['attributes']['BusinessParking']['lot'] or x[num]['attributes']['BusinessParking']['street'] == True:\n",
    "                stars_each[5] += x[5]['stars'] \n",
    "                len_each[5] += 1\n",
    "\n",
    "avg_each_stars = stars_each/len_each"
   ]
  },
  {
   "cell_type": "code",
   "execution_count": 7,
   "metadata": {},
   "outputs": [
    {
     "name": "stdout",
     "output_type": "stream",
     "text": [
      "[2813191.5 1537312.   487674.  1476737.5 2305788.  1855696.5]\n",
      "[803769. 384328. 108372. 421925. 768596. 530199.]\n"
     ]
    },
    {
     "data": {
      "text/plain": [
       "array([3.5, 4. , 4.5, 3.5, 3. , 3.5])"
      ]
     },
     "execution_count": 7,
     "metadata": {},
     "output_type": "execute_result"
    }
   ],
   "source": [
    "print stars_each\n",
    "print len_each\n",
    "\n",
    "avg_each_stars"
   ]
  },
  {
   "cell_type": "code",
   "execution_count": 8,
   "metadata": {},
   "outputs": [],
   "source": [
    "labels = ['BusinessAcceptsCards','WheelchairAccessible', 'HappyHour','HasTV','RestaurantGoodForGroups','BusinessParking']\n",
    "data = [go.Bar(x=labels,y=avg_each_stars,\n",
    "               marker=dict(\n",
    "                   color='rgb(158,202,225)',\n",
    "                   line=dict(\n",
    "                       width=2))),]\n",
    "layout = go.Layout(title='Average Star Rating by Feature')\n",
    "fig = go.Figure(data=data, layout=layout)"
   ]
  },
  {
   "cell_type": "code",
   "execution_count": 10,
   "metadata": {},
   "outputs": [
    {
     "data": {
      "text/html": [
       "<iframe id=\"igraph\" scrolling=\"no\" style=\"border:none;\" seamless=\"seamless\" src=\"https://plot.ly/~KavyaP/54.embed\" height=\"525px\" width=\"100%\"></iframe>"
      ],
      "text/plain": [
       "<plotly.tools.PlotlyDisplay object>"
      ]
     },
     "execution_count": 10,
     "metadata": {},
     "output_type": "execute_result"
    }
   ],
   "source": [
    "py.iplot(fig)"
   ]
  },
  {
   "cell_type": "markdown",
   "metadata": {},
   "source": [
    "# Analysis"
   ]
  },
  {
   "cell_type": "code",
   "execution_count": 15,
   "metadata": {},
   "outputs": [],
   "source": [
    "def feature(datum):\n",
    "    '''\n",
    "    :param: datum, yelp review item\n",
    "    :type: dict\n",
    "    \n",
    "    '''\n",
    "    feat = [1]\n",
    "    attributes = datum['attributes']\n",
    "    \n",
    "    if 'BusinessAcceptsCreditCards' in attributes:\n",
    "        if attributes['BusinessAcceptsCreditCards'] == True:\n",
    "            feat.append(1)\n",
    "        else:\n",
    "            feat.append(0)\n",
    "    else:\n",
    "        feat.append(random.randint(0, 1))\n",
    "        \n",
    "        \n",
    "    if 'WheelchairAccessible' in attributes:\n",
    "        if attributes['WheelchairAccessible'] == True:\n",
    "            feat.append(1)\n",
    "        else: \n",
    "            feat.append(0)\n",
    "    else:\n",
    "        feat.append(random.randint(0, 1))\n",
    "        \n",
    "        \n",
    "    if 'HappyHour' in attributes:\n",
    "        if attributes['HappyHour'] == True:\n",
    "            feat.append(1)\n",
    "        else:\n",
    "            feat.append(0)\n",
    "    else:\n",
    "        feat.append(random.randint(0, 1))\n",
    "        \n",
    "        \n",
    "    if 'HasTV' in attributes:\n",
    "        if attributes['HasTV'] == True:\n",
    "            feat.append(1)\n",
    "        else:\n",
    "            feat.append(0)\n",
    "    else:\n",
    "        feat.append(random.randint(0, 1))\n",
    "        \n",
    "        \n",
    "    if 'RestaurantsGoodForGroups' in attributes:\n",
    "        if attributes['RestaurantsGoodForGroups'] == True:\n",
    "            feat.append(1)\n",
    "        else:\n",
    "            feat.append(0)\n",
    "    else:\n",
    "        feat.append(random.randint(0, 1))\n",
    "        \n",
    "        \n",
    "    if 'RestaurantsPriceRange2' in attributes:\n",
    "        feat.append(attributes['RestaurantsPriceRange2'])\n",
    "    else:\n",
    "        feat.append(random.randint(1,4))\n",
    "        \n",
    "        \n",
    "    if 'BusinessParking' in attributes:\n",
    "        if (attributes['BusinessParking']['garage'] or attributes['BusinessParking']['lot'] or attributes['BusinessParking']['street']):\n",
    "            feat.append(1)\n",
    "        else:\n",
    "            feat.append(0)\n",
    "    else:\n",
    "        feat.append(random.randint(0,1))\n",
    "        \n",
    "    return feat"
   ]
  }
 ],
 "metadata": {
  "kernelspec": {
   "display_name": "Python 2",
   "language": "python",
   "name": "python2"
  },
  "language_info": {
   "codemirror_mode": {
    "name": "ipython",
    "version": 2
   },
   "file_extension": ".py",
   "mimetype": "text/x-python",
   "name": "python",
   "nbconvert_exporter": "python",
   "pygments_lexer": "ipython2",
   "version": "2.7.13"
  }
 },
 "nbformat": 4,
 "nbformat_minor": 2
}
