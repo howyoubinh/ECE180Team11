{
 "cells": [
  {
   "cell_type": "code",
   "execution_count": 3,
   "metadata": {
    "collapsed": true
   },
   "outputs": [],
   "source": [
    "import random\n",
    "import json\n",
    "import numpy as np\n",
    "from sklearn.tree import DecisionTreeRegressor\n",
    "from sklearn.metrics import mean_squared_error\n"
   ]
  },
  {
   "cell_type": "code",
   "execution_count": 4,
   "metadata": {
    "collapsed": true
   },
   "outputs": [],
   "source": [
    "def feature(datum):\n",
    "    '''\n",
    "    :param: datum, yelp review item\n",
    "    :type: dict\n",
    "    \n",
    "    '''\n",
    "    feat = [1]\n",
    "    attributes = datum['attributes']\n",
    "    \n",
    "    if 'BusinessAcceptsCreditCards' in attributes:\n",
    "        if attributes['BusinessAcceptsCreditCards'] == True:\n",
    "            feat.append(1)\n",
    "        else:\n",
    "            feat.append(0)\n",
    "    else:\n",
    "        feat.append(random.randint(0, 1))\n",
    "        \n",
    "        \n",
    "    if 'WheelchairAccessible' in attributes:\n",
    "        if attributes['WheelchairAccessible'] == True:\n",
    "            feat.append(1)\n",
    "        else: \n",
    "            feat.append(0)\n",
    "    else:\n",
    "        feat.append(random.randint(0, 1))\n",
    "        \n",
    "        \n",
    "    if 'HappyHour' in attributes:\n",
    "        if attributes['HappyHour'] == True:\n",
    "            feat.append(1)\n",
    "        else:\n",
    "            feat.append(0)\n",
    "    else:\n",
    "        feat.append(random.randint(0, 1))\n",
    "        \n",
    "        \n",
    "    if 'HasTV' in attributes:\n",
    "        if attributes['HasTV'] == True:\n",
    "            feat.append(1)\n",
    "        else:\n",
    "            feat.append(0)\n",
    "    else:\n",
    "        feat.append(random.randint(0, 1))\n",
    "        \n",
    "        \n",
    "    if 'GoodForGroups' in attributes:\n",
    "        if attributes['GoodForGroups'] == True:\n",
    "            feat.append(1)\n",
    "        else:\n",
    "            feat.append(0)\n",
    "    else:\n",
    "        feat.append(random.randint(0, 1))\n",
    "        \n",
    "        \n",
    "    if 'RestaurantsPriceRange2' in attributes:\n",
    "        feat.append(attributes['RestaurantsPriceRange2'])\n",
    "    else:\n",
    "        feat.append(random.randint(1,4))\n",
    "        \n",
    "        \n",
    "    if 'BusinessParking' in attributes:\n",
    "        if (attributes['BusinessParking']['garage'] or attributes['BusinessParking']['lot'] or attributes['BusinessParking']['street']):\n",
    "            feat.append(1)\n",
    "        else:\n",
    "            feat.append(0)\n",
    "    else:\n",
    "        feat.append(random.randint(0,1))\n",
    "        \n",
    "    return feat"
   ]
  },
  {
   "cell_type": "code",
   "execution_count": 5,
   "metadata": {
    "collapsed": true
   },
   "outputs": [],
   "source": [
    "def MSE(theta, X, y):\n",
    "    '''\n",
    "    :param: X,test feature set\n",
    "    :type: list\n",
    "    :param: y,test label set\n",
    "    :type: list\n",
    "    :param: theta\n",
    "    :type: list\n",
    "    '''\n",
    "    theta = np.matrix(theta).T\n",
    "    X = np.matrix(X)\n",
    "    y = np.matrix(y).T\n",
    "    diff = X*theta - y\n",
    "    diffSq = diff.T*diff\n",
    "    diffSqReg = diffSq / len(X)\n",
    "    return diffSqReg.flatten().tolist()[0][0]"
   ]
  },
  {
   "cell_type": "code",
   "execution_count": 6,
   "metadata": {
    "collapsed": true
   },
   "outputs": [],
   "source": [
    "def decision_tree_regression(X, y, X_test):\n",
    "    '''\n",
    "    :param: X,training feature set\n",
    "    :type: list\n",
    "    :param: y ,training label set\n",
    "    :type: list\n",
    "    :param: X_test,test feature set\n",
    "    :type: list\n",
    "    '''\n",
    "    \n",
    "    regressor = DecisionTreeRegressor(random_state=0)\n",
    "    regressor.fit(X, y)\n",
    "    return regressor.predict(X_test)"
   ]
  },
  {
   "cell_type": "code",
   "execution_count": 7,
   "metadata": {
    "collapsed": true
   },
   "outputs": [],
   "source": [
    "data1 = []\n",
    "for line in open('business.json','r'): \n",
    "     data1.append(json.loads(line))\n",
    "   "
   ]
  },
  {
   "cell_type": "code",
   "execution_count": 8,
   "metadata": {
    "collapsed": true
   },
   "outputs": [],
   "source": [
    "x =[]\n",
    "for d in data1:\n",
    "    if (d['stars'] ):\n",
    "        cat = d['categories']\n",
    "        for c in cat:\n",
    "            if (c == 'Restaurants'):\n",
    "                x.append(d)"
   ]
  },
  {
   "cell_type": "code",
   "execution_count": 9,
   "metadata": {
    "collapsed": true
   },
   "outputs": [],
   "source": [
    "random.shuffle(x)\n",
    "#split into training and test sets\n",
    "train_data = x[0:30000]\n",
    "test_data = x[30000:]\n",
    "X_train = [feature(d) for d in train_data]\n",
    "y_train = [d['stars'] for d in train_data]\n",
    "X_test = [feature(d) for d in test_data]\n",
    "y_test = [d['stars'] for d in test_data]"
   ]
  },
  {
   "cell_type": "code",
   "execution_count": 10,
   "metadata": {
    "collapsed": true
   },
   "outputs": [],
   "source": [
    "price = []\n",
    "for i in range(len(x)):\n",
    "    if 'RestaurantsPriceRange2' in x[i]['attributes']:\n",
    "        price.append(x[i]['attributes']['RestaurantsPriceRange2'])"
   ]
  },
  {
   "cell_type": "code",
   "execution_count": 11,
   "metadata": {},
   "outputs": [
    {
     "data": {
      "text/plain": [
       "24618"
      ]
     },
     "execution_count": 11,
     "metadata": {},
     "output_type": "execute_result"
    }
   ],
   "source": [
    "len(test_data)"
   ]
  },
  {
   "cell_type": "markdown",
   "metadata": {},
   "source": [
    "### Baseline Model"
   ]
  },
  {
   "cell_type": "code",
   "execution_count": 12,
   "metadata": {
    "collapsed": true
   },
   "outputs": [],
   "source": [
    "allRatings = []\n",
    "for l in train_data:\n",
    "    allRatings.append(l['stars'])    \n",
    "globalAverage = sum(allRatings) / len(allRatings)\n",
    "\n",
    "rate = []\n",
    "for l in test_data:\n",
    "     rate.append(l['stars'])"
   ]
  },
  {
   "cell_type": "code",
   "execution_count": 13,
   "metadata": {},
   "outputs": [
    {
     "name": "stdout",
     "output_type": "stream",
     "text": [
      "mse of model_1: 0.6321944569372613\n"
     ]
    }
   ],
   "source": [
    "squareError = 0\n",
    "for r in rate:\n",
    "    squareError += (r - globalAverage)**2\n",
    "mse_m1 = squareError / (len(rate))\n",
    "print ('mse of model_1:',mse_m1)"
   ]
  },
  {
   "cell_type": "code",
   "execution_count": 14,
   "metadata": {},
   "outputs": [
    {
     "data": {
      "text/plain": [
       "3.4554"
      ]
     },
     "execution_count": 14,
     "metadata": {},
     "output_type": "execute_result"
    }
   ],
   "source": [
    "globalAverage"
   ]
  },
  {
   "cell_type": "markdown",
   "metadata": {},
   "source": [
    "### Regression"
   ]
  },
  {
   "cell_type": "code",
   "execution_count": 16,
   "metadata": {},
   "outputs": [
    {
     "name": "stdout",
     "output_type": "stream",
     "text": [
      "mse of model_2 0.6169964875708768\n"
     ]
    }
   ],
   "source": [
    "theta,residuals,rank,s = np.linalg.lstsq(X_train, y_train)\n",
    "mse_m2=MSE(theta,X_test,y_test)\n",
    "print ('mse of model_2',mse_m2)"
   ]
  },
  {
   "cell_type": "code",
   "execution_count": 17,
   "metadata": {},
   "outputs": [
    {
     "data": {
      "text/plain": [
       "array([  3.41686729e+00,  -1.71727505e-01,   5.05941545e-02,\n",
       "         3.01379513e-03,  -4.41573051e-03,   1.32554487e-02,\n",
       "         2.54233780e-02,   1.84373112e-01])"
      ]
     },
     "execution_count": 17,
     "metadata": {},
     "output_type": "execute_result"
    }
   ],
   "source": [
    "theta"
   ]
  },
  {
   "cell_type": "markdown",
   "metadata": {},
   "source": [
    "### Decision Tree Regression"
   ]
  },
  {
   "cell_type": "code",
   "execution_count": 19,
   "metadata": {},
   "outputs": [
    {
     "name": "stdout",
     "output_type": "stream",
     "text": [
      "mse of model_3: 0.615594640675\n"
     ]
    }
   ],
   "source": [
    "#Model_3: decesion_tree regression\n",
    "y_pred = decision_tree_regression(X_train,y_train,X_test)\n",
    "mse_m3=mean_squared_error(y_test, y_pred)\n",
    "print ('mse of model_3:',mse_m3)"
   ]
  },
  {
   "cell_type": "code",
   "execution_count": null,
   "metadata": {
    "collapsed": true
   },
   "outputs": [],
   "source": []
  }
 ],
 "metadata": {
  "kernelspec": {
   "display_name": "Python 3",
   "language": "python",
   "name": "python3"
  },
  "language_info": {
   "codemirror_mode": {
    "name": "ipython",
    "version": 3
   },
   "file_extension": ".py",
   "mimetype": "text/x-python",
   "name": "python",
   "nbconvert_exporter": "python",
   "pygments_lexer": "ipython3",
   "version": "3.6.3"
  }
 },
 "nbformat": 4,
 "nbformat_minor": 2
}
