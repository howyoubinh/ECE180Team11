{
 "cells": [
  {
   "cell_type": "code",
   "execution_count": 2,
   "metadata": {
    "collapsed": true
   },
   "outputs": [],
   "source": [
    "import json\n",
    "from collections import defaultdict\n",
    "import operator\n",
    "from difflib import get_close_matches"
   ]
  },
  {
   "cell_type": "code",
   "execution_count": 3,
   "metadata": {
    "collapsed": true
   },
   "outputs": [],
   "source": [
    "data1 = []\n",
    "for line in open('business.json','r'): \n",
    "     data1.append(json.loads(line))"
   ]
  },
  {
   "cell_type": "code",
   "execution_count": 4,
   "metadata": {},
   "outputs": [
    {
     "data": {
      "text/plain": [
       "{'address': '4855 E Warner Rd, Ste B9',\n",
       " 'attributes': {'AcceptsInsurance': True,\n",
       "  'BusinessAcceptsCreditCards': True,\n",
       "  'ByAppointmentOnly': True},\n",
       " 'business_id': 'FYWN1wneV18bWNgQjJ2GNg',\n",
       " 'categories': ['Dentists',\n",
       "  'General Dentistry',\n",
       "  'Health & Medical',\n",
       "  'Oral Surgeons',\n",
       "  'Cosmetic Dentists',\n",
       "  'Orthodontists'],\n",
       " 'city': 'Ahwatukee',\n",
       " 'hours': {'Friday': '7:30-17:00',\n",
       "  'Monday': '7:30-17:00',\n",
       "  'Thursday': '7:30-17:00',\n",
       "  'Tuesday': '7:30-17:00',\n",
       "  'Wednesday': '7:30-17:00'},\n",
       " 'is_open': 1,\n",
       " 'latitude': 33.3306902,\n",
       " 'longitude': -111.9785992,\n",
       " 'name': 'Dental by Design',\n",
       " 'neighborhood': '',\n",
       " 'postal_code': '85044',\n",
       " 'review_count': 22,\n",
       " 'stars': 4.0,\n",
       " 'state': 'AZ'}"
      ]
     },
     "execution_count": 4,
     "metadata": {},
     "output_type": "execute_result"
    }
   ],
   "source": [
    "data1[0]"
   ]
  },
  {
   "cell_type": "markdown",
   "metadata": {},
   "source": [
    "### Categories vs Business"
   ]
  },
  {
   "cell_type": "code",
   "execution_count": 5,
   "metadata": {
    "collapsed": true
   },
   "outputs": [],
   "source": [
    "import plotly\n",
    "import plotly.plotly as py\n",
    "import plotly.figure_factory as ff\n",
    "import pandas as pd"
   ]
  },
  {
   "cell_type": "code",
   "execution_count": 6,
   "metadata": {
    "collapsed": true
   },
   "outputs": [],
   "source": [
    "CategoryBasedBus = defaultdict(int)\n",
    "for d in data1:\n",
    "    for c in d['categories']:\n",
    "        CategoryBasedBus[c] +=1   "
   ]
  },
  {
   "cell_type": "code",
   "execution_count": 7,
   "metadata": {
    "collapsed": true
   },
   "outputs": [],
   "source": [
    "PopularCategory = set()\n",
    "total_reviews_main = 0\n",
    "threshold = 50\n",
    "CategoryBasedBusSorted = {}\n",
    "\n",
    "CategoryBasedBusSorted = dict(sorted(CategoryBasedBus.items(),key=operator.itemgetter(1),reverse=True))\n",
    "review_count = 0\n",
    "for category, review in CategoryBasedBusSorted.items():\n",
    "    PopularCategory.add(category)\n",
    "    review_count += review\n",
    "    if review_count > total_reviews_main*1.0*threshold/(100.0):\n",
    "        break"
   ]
  },
  {
   "cell_type": "code",
   "execution_count": 8,
   "metadata": {},
   "outputs": [
    {
     "name": "stdout",
     "output_type": "stream",
     "text": [
      "Restaurants 54618\n",
      "Shopping 27971\n",
      "Food 24777\n",
      "Beauty & Spas 17014\n",
      "Home Services 16205\n",
      "Health & Medical 14230\n",
      "Nightlife 12154\n",
      "Local Services 11232\n",
      "Automotive 11052\n",
      "Bars 10563\n"
     ]
    }
   ],
   "source": [
    "top_category_list = []\n",
    "top_category_reviews = []\n",
    "count = 0\n",
    "total_rows_in_plot = 9\n",
    "for c,r in CategoryBasedBusSorted.items():\n",
    "    count+=1\n",
    "    print (c,r)\n",
    "    top_category_list.append(c)\n",
    "    top_category_reviews.append(r)\n",
    "    if count > total_rows_in_plot:\n",
    "        break"
   ]
  },
  {
   "cell_type": "code",
   "execution_count": 9,
   "metadata": {},
   "outputs": [
    {
     "data": {
      "text/plain": [
       "(['Restaurants',\n",
       "  'Shopping',\n",
       "  'Food',\n",
       "  'Beauty & Spas',\n",
       "  'Home Services',\n",
       "  'Health & Medical',\n",
       "  'Nightlife',\n",
       "  'Local Services',\n",
       "  'Automotive',\n",
       "  'Bars'],\n",
       " [54618, 27971, 24777, 17014, 16205, 14230, 12154, 11232, 11052, 10563],\n",
       " 0)"
      ]
     },
     "execution_count": 9,
     "metadata": {},
     "output_type": "execute_result"
    }
   ],
   "source": [
    "top_category_list,top_category_reviews, total_reviews_main"
   ]
  },
  {
   "cell_type": "code",
   "execution_count": 10,
   "metadata": {
    "collapsed": true
   },
   "outputs": [],
   "source": [
    "plot1 = []\n",
    "bad_okay_good=[10000, 20000, 30000,50000]\n",
    "for counter in range(total_rows_in_plot):\n",
    "    plot1.append({\"title\":top_category_list[counter],\"subtitle\":\"dummy\",\"ranges\":bad_okay_good,\"measures\":[top_category_reviews[counter],top_category_reviews[counter]+1],\"markers\":[top_category_reviews[counter]]})\n",
    "plot1 = json.dumps(plot1)"
   ]
  },
  {
   "cell_type": "code",
   "execution_count": 11,
   "metadata": {},
   "outputs": [
    {
     "data": {
      "text/plain": [
       "'file:///Users/kavyaputluri/Documents/ECE 180/Project/restaurant.html'"
      ]
     },
     "execution_count": 11,
     "metadata": {},
     "output_type": "execute_result"
    }
   ],
   "source": [
    "plot1_data = pd.read_json(plot1)\n",
    "fig1 = ff.create_bullet(plot1_data, markers=\"markers\", measures='measures',ranges=\"ranges\",subtitles=\"subtitle\",titles=\"title\")\n",
    "plotly.offline.plot(fig1, filename = \"restaurant.html\")"
   ]
  },
  {
   "cell_type": "markdown",
   "metadata": {
    "collapsed": true
   },
   "source": [
    "### Geographic Distribution"
   ]
  },
  {
   "cell_type": "code",
   "execution_count": 12,
   "metadata": {
    "collapsed": true
   },
   "outputs": [],
   "source": [
    "from geopy.geocoders import Nominatim\n",
    "geolocator = Nominatim()"
   ]
  },
  {
   "cell_type": "code",
   "execution_count": 15,
   "metadata": {
    "collapsed": true
   },
   "outputs": [],
   "source": [
    "restaurant_data = []\n",
    "for d in data1:\n",
    "    if 'Restaurants' in d['categories']:\n",
    "        restaurant_data.append(d)"
   ]
  },
  {
   "cell_type": "code",
   "execution_count": 16,
   "metadata": {
    "collapsed": true
   },
   "outputs": [],
   "source": [
    "CityBasedBus = defaultdict(int)\n",
    "PopularCity = set()\n",
    "total_reviews = 0\n",
    "threshold = 70\n",
    "for business in restaurant_data:\n",
    "    city = business['city']\n",
    "    review_count = business['review_count']\n",
    "    CityBasedBus[city] += review_count\n",
    "    total_reviews += review_count\n",
    "    \n",
    "CityBasedBusSorted = dict(sorted(CityBasedBus.items(),key=operator.itemgetter(1), reverse=True))\n",
    "review_count = 0\n",
    "for city, review in CityBasedBusSorted.items():\n",
    "    PopularCity.add(city)\n",
    "    review_count += review\n",
    "    if review_count > total_reviews*1.0*threshold/(100.0):\n",
    "        break"
   ]
  },
  {
   "cell_type": "code",
   "execution_count": 104,
   "metadata": {
    "collapsed": true
   },
   "outputs": [],
   "source": [
    "PopularCityListExpanded = []\n",
    "cityList = list(CityBasedBusSorted.keys())\n",
    "for city in PopularCity:\n",
    "    PopularCityListExpanded += get_close_matches(city, cityList,20)\n",
    "    "
   ]
  },
  {
   "cell_type": "code",
   "execution_count": 102,
   "metadata": {
    "collapsed": true
   },
   "outputs": [],
   "source": [
    "popular_city_restaurant_data = [] #Will act as business.json\n",
    "business_id_to_use = [] #Will be used to generate review.json\n",
    "for business in restaurant_data:\n",
    "    city = business['city']\n",
    "    if city in PopularCityListExpanded:\n",
    "        popular_city_restaurant_data.append(business)\n",
    "        business_id_to_use.append(business['business_id'])"
   ]
  },
  {
   "cell_type": "code",
   "execution_count": 103,
   "metadata": {
    "collapsed": true
   },
   "outputs": [],
   "source": [
    "total_cities_plot = 200"
   ]
  },
  {
   "cell_type": "code",
   "execution_count": 93,
   "metadata": {
    "collapsed": true
   },
   "outputs": [],
   "source": [
    "count = 0\n",
    "geo_fd = open(\"geogrpahy.csv\",\"w\")\n",
    "geo_fd.write(\"name,review,lat,lon\\n\")\n",
    "for city, review in CityBasedBusSorted.items():\n",
    "    try:\n",
    "        location = geolocator.geocode(city)\n",
    "        geo_fd.write(city+\",\"+str(review)+\",\"+str(location.latitude)+\",\"+str(location.longitude)+\"\\n\")\n",
    "    except:\n",
    "        break\n",
    "    count += 1\n",
    "    if count == total_cities_plot:\n",
    "        break\n",
    "geo_fd.close()\n",
    "total_cities_plot = count"
   ]
  },
  {
   "cell_type": "code",
   "execution_count": 94,
   "metadata": {},
   "outputs": [
    {
     "data": {
      "text/plain": [
       "'file:///Users/kavyaputluri/Documents/ECE 180/Project/geography.html'"
      ]
     },
     "execution_count": 94,
     "metadata": {},
     "output_type": "execute_result"
    }
   ],
   "source": [
    "count = 0\n",
    "cities = []\n",
    "scale = [400,300,200,100,50]\n",
    "df = pd.read_csv('geogrpahy.csv',encoding = \"ISO-8859-1\")\n",
    "df.head()\n",
    "limits = [(0,4),(4,12),(12,24),(24,40),(40,total_cities_plot)]\n",
    "colors = [\"rgb(0,116,217)\",\"rgb(255,65,54)\",\"rgb(133,20,75)\",\"rgb(255,133,27)\",\"lightgrey\"]\n",
    "for i in range(len(limits)):\n",
    "    lim = limits[i]\n",
    "    df_sub = df[lim[0]:lim[1]]\n",
    "    city = dict(\n",
    "        type = 'scattergeo',\n",
    "        locationmode = 'USA-states',\n",
    "        lon = df_sub['lon'],\n",
    "        lat = df_sub['lat'],\n",
    "        marker = dict(\n",
    "            size = df_sub['review']/scale[i],\n",
    "            color = colors[i],\n",
    "            line = dict(width=0.5, color='rgb(40,40,40)'),\n",
    "            sizemode = 'area'\n",
    "        ),\n",
    "    )\n",
    "    cities.append(city)\n",
    "    \n",
    "\n",
    "layout = dict(\n",
    "        title = 'City Based Review Popularity of Restaurants',\n",
    "        showlegend = True,\n",
    "        geo = dict(\n",
    "            scope='usa',\n",
    "            #projection=dict( type='natural earth' ),\n",
    "            showland = True,\n",
    "            landcolor = 'rgb(217, 217, 217)',\n",
    "            subunitwidth=1,\n",
    "            countrywidth=1,\n",
    "            subunitcolor=\"rgb(255, 255, 255)\",\n",
    "            countrycolor=\"rgb(255, 255, 255)\"\n",
    "        ),\n",
    "    )\n",
    "\n",
    "fig2 = dict(data=cities, layout = layout)\n",
    "plotly.offline.plot(fig2, filename=\"geography.html\")\n",
    "    "
   ]
  },
  {
   "cell_type": "code",
   "execution_count": null,
   "metadata": {
    "collapsed": true
   },
   "outputs": [],
   "source": []
  },
  {
   "cell_type": "markdown",
   "metadata": {},
   "source": [
    "### Others"
   ]
  },
  {
   "cell_type": "code",
   "execution_count": 22,
   "metadata": {
    "collapsed": true
   },
   "outputs": [],
   "source": [
    "restaurant_data = []\n",
    "for d in data1:\n",
    "    if 'Restaurants' in d['categories']:\n",
    "        restaurant_data.append(d)"
   ]
  },
  {
   "cell_type": "code",
   "execution_count": 23,
   "metadata": {},
   "outputs": [
    {
     "data": {
      "text/plain": [
       "{'address': '22578 Lake Shore Blvd',\n",
       " 'attributes': {'Ambience': {'casual': False,\n",
       "   'classy': False,\n",
       "   'divey': False,\n",
       "   'hipster': False,\n",
       "   'intimate': False,\n",
       "   'romantic': False,\n",
       "   'touristy': False,\n",
       "   'trendy': False,\n",
       "   'upscale': False},\n",
       "  'BikeParking': True,\n",
       "  'BusinessAcceptsCreditCards': True,\n",
       "  'BusinessParking': {'garage': False,\n",
       "   'lot': False,\n",
       "   'street': False,\n",
       "   'valet': False,\n",
       "   'validated': False},\n",
       "  'GoodForKids': True,\n",
       "  'GoodForMeal': {'breakfast': True,\n",
       "   'brunch': True,\n",
       "   'dessert': False,\n",
       "   'dinner': False,\n",
       "   'latenight': False,\n",
       "   'lunch': True},\n",
       "  'HasTV': True,\n",
       "  'NoiseLevel': 'average',\n",
       "  'OutdoorSeating': False,\n",
       "  'RestaurantsAttire': 'casual',\n",
       "  'RestaurantsDelivery': False,\n",
       "  'RestaurantsGoodForGroups': True,\n",
       "  'RestaurantsPriceRange2': 1,\n",
       "  'RestaurantsReservations': False,\n",
       "  'RestaurantsTableService': True,\n",
       "  'RestaurantsTakeOut': True,\n",
       "  'WheelchairAccessible': True,\n",
       "  'WiFi': 'no'},\n",
       " 'business_id': 'gchI4BdZ76teMX9BsI2H-w',\n",
       " 'categories': ['Steakhouses',\n",
       "  'Salad',\n",
       "  'Italian',\n",
       "  'Restaurants',\n",
       "  'Breakfast & Brunch',\n",
       "  'Seafood',\n",
       "  'American (New)'],\n",
       " 'city': 'Euclid',\n",
       " 'hours': {'Friday': '6:00-15:00',\n",
       "  'Monday': '6:00-15:00',\n",
       "  'Saturday': '6:00-15:00',\n",
       "  'Sunday': '6:00-15:00',\n",
       "  'Thursday': '6:00-15:00',\n",
       "  'Tuesday': '6:00-15:00',\n",
       "  'Wednesday': '6:00-15:00'},\n",
       " 'is_open': 1,\n",
       " 'latitude': 41.611009,\n",
       " 'longitude': -81.523539,\n",
       " 'name': \"Maria's Family Restaurant\",\n",
       " 'neighborhood': '',\n",
       " 'postal_code': '44123',\n",
       " 'review_count': 9,\n",
       " 'stars': 2.5,\n",
       " 'state': 'OH'}"
      ]
     },
     "execution_count": 23,
     "metadata": {},
     "output_type": "execute_result"
    }
   ],
   "source": [
    "restaurant_data[234]"
   ]
  },
  {
   "cell_type": "code",
   "execution_count": null,
   "metadata": {
    "collapsed": true
   },
   "outputs": [],
   "source": []
  }
 ],
 "metadata": {
  "kernelspec": {
   "display_name": "Python 3",
   "language": "python",
   "name": "python3"
  },
  "language_info": {
   "codemirror_mode": {
    "name": "ipython",
    "version": 3
   },
   "file_extension": ".py",
   "mimetype": "text/x-python",
   "name": "python",
   "nbconvert_exporter": "python",
   "pygments_lexer": "ipython3",
   "version": "3.6.3"
  }
 },
 "nbformat": 4,
 "nbformat_minor": 2
}
